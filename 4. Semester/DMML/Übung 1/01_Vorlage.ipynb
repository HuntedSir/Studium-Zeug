{
 "cells": [
  {
   "cell_type": "code",
   "execution_count": 4,
   "metadata": {
    "executionInfo": {
     "elapsed": 2955,
     "status": "ok",
     "timestamp": 1681309922732,
     "user": {
      "displayName": "Lukas Struppek",
      "userId": "14578470498754018169"
     },
     "user_tz": -120
    },
    "id": "mEHFUTHoheSd"
   },
   "outputs": [],
   "source": [
    "# Importieren der benötigten Libraries\n",
    "from sklearn.datasets import make_blobs, load_digits\n",
    "from sklearn.metrics import mean_squared_error\n",
    "import numpy as np\n",
    "import matplotlib.pyplot as plt\n",
    "import matplotlib.lines as lines"
   ]
  },
  {
   "cell_type": "markdown",
   "metadata": {
    "id": "EjG3UMGOiRHS"
   },
   "source": [
    "# Aufgabe 1.2 Klassifikation"
   ]
  },
  {
   "cell_type": "markdown",
   "metadata": {
    "id": "8eFj5-KdioKJ"
   },
   "source": [
    "## a) Datensatzerstellung\n",
    "Erstellen Sie einen synthetischen Datensatz zweier gaußverteilten Cluster. \n",
    "Der Datensatz soll dabei insgesamt *500 Stichproben* besitzen und die Clusterzentren in den Punkten *(−1.5, −1.5)* und *(1.5, 1.5)* liegen. \n",
    "Sie können hierfür die Funktion [sklearn.datasets.make_blobs](https://scikit-learn.org/stable/modules/generated/sklearn.datasets.make_blobs.html) verwenden. Eine Visualisierung der generierten Daten kann z.B. über [matplotlib.pyplit.scatter](https://matplotlib.org/stable/api/_as_gen/matplotlib.pyplot.scatter.html) vorgenommen werden."
   ]
  },
  {
   "cell_type": "code",
   "execution_count": 15,
   "metadata": {
    "id": "I8c4Dr2BiqRC"
   },
   "outputs": [
    {
     "name": "stdout",
     "output_type": "stream",
     "text": [
      "[[ 2.82778270e+00  1.39871851e+00]\n",
      " [-1.53928282e+00 -2.66809350e+00]\n",
      " [-1.35468152e-01 -2.18944918e+00]\n",
      " [-2.94653470e+00 -6.99702051e-01]\n",
      " [ 7.59308951e-01 -1.54225715e+00]\n",
      " [-6.78414288e-01 -1.49470735e+00]\n",
      " [-7.39604059e-01  1.90149906e+00]\n",
      " [ 1.09405827e+00  2.22436850e+00]\n",
      " [ 1.68392549e+00  1.11451024e+00]\n",
      " [ 2.17057045e+00  7.92494302e-01]\n",
      " [ 1.44386698e+00  1.49861496e+00]\n",
      " [-5.79141176e-01 -1.18127235e+00]\n",
      " [ 6.63235949e-01 -1.63472051e-01]\n",
      " [ 1.47657689e+00  2.57919473e+00]\n",
      " [-1.21955829e+00 -2.49312361e+00]\n",
      " [-1.63594970e+00 -3.63108637e-01]\n",
      " [-1.59845252e+00 -2.16347829e+00]\n",
      " [ 1.94819528e+00  3.19618157e+00]\n",
      " [-1.42965294e-01  1.09392820e+00]\n",
      " [-1.10399329e+00 -2.59306151e+00]\n",
      " [-1.34505257e+00 -1.12183748e+00]\n",
      " [-2.30340966e+00 -2.18954978e+00]\n",
      " [ 2.87098901e+00  9.90156758e-01]\n",
      " [ 1.86448125e+00  2.97132196e+00]\n",
      " [-8.08461249e-01 -8.05250856e-01]\n",
      " [ 1.78690449e+00 -8.20594276e-01]\n",
      " [-7.13672038e-01 -1.96641910e+00]\n",
      " [-2.39656938e-03 -2.77666955e-01]\n",
      " [-1.76800337e+00 -6.97543604e-01]\n",
      " [ 1.44253048e+00  1.10878295e+00]\n",
      " [-2.50021535e+00 -3.04477110e+00]\n",
      " [-1.21365631e+00 -8.91156166e-01]\n",
      " [-1.29172502e+00 -5.23360964e-01]\n",
      " [ 1.30160110e+00  1.59419230e+00]\n",
      " [-3.26853845e+00 -1.14451821e+00]\n",
      " [-2.40876325e+00 -1.92431762e+00]\n",
      " [-1.34349346e+00 -1.26781896e+00]\n",
      " [-1.88732682e+00 -1.80230275e+00]\n",
      " [ 1.44464745e+00  1.23606265e+00]\n",
      " [ 1.13494478e+00 -2.91327548e-01]\n",
      " [-8.27705243e-01 -1.09253816e+00]\n",
      " [ 1.44141345e+00  1.18245691e+00]\n",
      " [ 1.95248909e+00  1.59789615e+00]\n",
      " [-1.60321885e+00 -1.08940150e+00]\n",
      " [ 1.15375055e+00  7.05363679e-01]\n",
      " [ 1.79673317e+00  2.32998616e+00]\n",
      " [-6.43169388e-01 -2.15102559e+00]\n",
      " [-3.43627981e+00 -1.31122140e+00]\n",
      " [-1.80863124e-01 -2.38241882e+00]\n",
      " [ 5.62119769e-01  1.93310795e+00]\n",
      " [-1.32423302e-01  1.43286585e+00]\n",
      " [-2.99125759e+00 -1.06060830e+00]\n",
      " [-3.11389785e+00 -1.71274028e+00]\n",
      " [-3.51640663e+00 -2.03945463e+00]\n",
      " [-1.33332650e+00 -8.64968563e-01]\n",
      " [ 1.96838523e+00  3.23587900e+00]\n",
      " [-1.63010695e+00 -1.40604677e+00]\n",
      " [-1.76773354e+00 -2.62801133e+00]\n",
      " [-1.16109587e+00  5.21043561e-01]\n",
      " [ 9.08597332e-01  2.62441918e+00]\n",
      " [ 1.25866221e+00  6.21809657e-01]\n",
      " [-3.19810582e+00 -1.11271952e+00]\n",
      " [-2.00965218e+00 -1.93807430e+00]\n",
      " [-1.91361898e+00 -2.24745481e+00]\n",
      " [ 6.02599073e-01  2.81247037e+00]\n",
      " [-1.03686967e+00 -1.22090424e+00]\n",
      " [ 8.39943680e-01  1.67581895e+00]\n",
      " [-1.01836049e-01  6.12819058e-01]\n",
      " [ 6.47414153e-01  1.52295976e+00]\n",
      " [ 9.64729835e-01  1.52540521e+00]\n",
      " [ 7.11330745e-01  2.59463837e+00]\n",
      " [-1.46136945e+00 -3.15671510e+00]\n",
      " [ 5.52511405e-01  1.74444346e+00]\n",
      " [-2.68885926e+00 -2.00681635e+00]\n",
      " [-2.31336426e+00 -2.96642433e+00]\n",
      " [-8.10181835e-01 -1.98153770e-01]\n",
      " [ 5.50598009e-02  2.89457006e-01]\n",
      " [ 6.62321958e-01  9.08816896e-01]\n",
      " [-3.08293840e+00 -8.89620621e-01]\n",
      " [-2.62682581e+00 -2.23067775e+00]\n",
      " [-2.57075262e+00 -4.45548273e-01]\n",
      " [-2.04286148e+00 -1.08394995e+00]\n",
      " [-7.28209449e-01 -6.76495846e-01]\n",
      " [ 3.84664703e+00  2.20838893e-01]\n",
      " [-9.32709722e-01 -1.72267510e+00]\n",
      " [ 2.52179059e+00  9.47459327e-01]\n",
      " [ 5.61018427e-01  2.51702099e+00]\n",
      " [-8.06226847e-01 -1.65957344e+00]\n",
      " [-1.40227503e+00 -9.17046320e-01]\n",
      " [ 2.27269484e+00 -1.61598291e-01]\n",
      " [-3.24256656e-01  1.80360390e+00]\n",
      " [-2.28262916e+00 -1.61038930e+00]\n",
      " [-4.05298982e+00 -8.46381405e-01]\n",
      " [ 2.19042902e+00  2.29667211e+00]\n",
      " [-5.68151626e-01 -1.16003502e+00]\n",
      " [ 7.69754624e-01 -2.95436567e+00]\n",
      " [-1.69065349e+00 -1.89484951e+00]\n",
      " [ 1.99805240e+00  1.47380776e+00]\n",
      " [ 1.99948608e-02  2.19589307e-01]\n",
      " [ 1.36894599e+00  2.63307988e+00]\n",
      " [ 2.47253579e+00  3.63386825e+00]\n",
      " [ 1.07533670e+00  6.70035402e-01]\n",
      " [ 1.19622405e+00 -1.57392467e+00]\n",
      " [ 9.67510081e-01  2.14505527e+00]\n",
      " [-1.68505367e+00 -2.30764849e+00]\n",
      " [-2.21960439e+00 -2.31299299e+00]\n",
      " [ 1.36809136e+00  1.90476181e+00]\n",
      " [ 5.67259089e-01  2.36931651e-01]\n",
      " [-1.18693230e+00 -2.35409574e+00]\n",
      " [ 1.39565651e+00  5.11998058e-01]\n",
      " [ 1.77117018e+00  6.98503115e-01]\n",
      " [ 2.02904524e+00  1.92262862e+00]\n",
      " [-2.40729836e+00 -1.44805460e+00]\n",
      " [ 7.37885488e-01  6.12219863e-01]\n",
      " [ 8.03916698e-01 -2.56001582e+00]\n",
      " [ 1.97043314e+00  1.81144707e+00]\n",
      " [ 1.27752299e+00  6.41080092e-01]\n",
      " [ 4.22942026e-01 -1.94852086e-02]\n",
      " [-1.97965581e+00 -8.79641702e-01]\n",
      " [-6.99435197e-01 -1.42173982e+00]\n",
      " [-1.52432612e+00 -2.23803091e+00]\n",
      " [-5.56953913e-01 -4.23967717e+00]\n",
      " [ 1.18802389e+00  6.59709605e-01]\n",
      " [-6.37403989e-01 -4.15561909e+00]\n",
      " [-3.25589058e+00 -1.04906554e+00]\n",
      " [ 2.58137603e+00  8.68624012e-01]\n",
      " [ 1.09369687e+00  6.35955009e-01]\n",
      " [-8.69586905e-01  2.36405230e+00]\n",
      " [ 3.51406015e+00  1.19323422e+00]\n",
      " [-2.19204985e+00  3.63770542e-02]\n",
      " [-2.81590741e+00 -1.96158460e+00]\n",
      " [-1.81155253e+00 -1.44383466e+00]\n",
      " [-8.01542851e-01 -1.49622911e+00]\n",
      " [ 9.94641683e-01  6.84208458e-01]\n",
      " [ 7.50309655e-01  1.53280875e+00]\n",
      " [-1.95553250e+00 -1.48252084e+00]\n",
      " [ 1.78912051e+00  1.91287082e+00]\n",
      " [-8.85920630e-01 -5.77793328e-01]\n",
      " [ 1.11312915e+00  9.89707260e-01]\n",
      " [ 2.44246812e+00  1.23240525e+00]\n",
      " [ 1.83057676e+00  2.44924647e+00]\n",
      " [-2.15855297e+00 -2.01423397e+00]\n",
      " [ 3.83150697e-01 -2.84775906e+00]\n",
      " [-8.59868474e-01 -3.11695604e+00]\n",
      " [-1.51568211e+00 -1.33907183e+00]\n",
      " [-2.15240858e+00 -1.89095338e+00]\n",
      " [ 2.06400854e+00  2.15447702e-01]\n",
      " [-5.70494889e-01 -9.17775409e-01]\n",
      " [-2.60438334e+00 -1.44783492e+00]\n",
      " [ 2.10512008e+00  2.39555599e+00]\n",
      " [ 1.69796729e+00  2.58193522e+00]\n",
      " [ 6.41027612e-01  6.01057844e-01]\n",
      " [ 2.88526155e+00  1.19690175e+00]\n",
      " [-2.65735526e+00 -1.81229225e+00]\n",
      " [-1.85343175e+00 -3.11647419e+00]\n",
      " [-1.52818223e+00 -1.07166813e+00]\n",
      " [ 1.66392857e+00  1.59632136e+00]\n",
      " [-8.74768549e-01 -3.10205766e+00]\n",
      " [ 2.73378341e-01  2.46744615e+00]\n",
      " [ 1.55989468e+00  1.28747696e+00]\n",
      " [-2.20470028e+00 -5.56739275e-01]\n",
      " [-4.31490601e-01 -1.95338580e+00]\n",
      " [-1.10095365e+00 -4.27259276e+00]\n",
      " [-2.79285691e+00 -1.23294913e+00]\n",
      " [ 1.29710316e+00  1.39011722e+00]\n",
      " [ 8.32279714e-01  1.82696260e+00]\n",
      " [-1.54570396e+00 -1.27949234e+00]\n",
      " [ 1.69506970e+00 -2.81562856e-01]\n",
      " [ 1.40961799e+00  2.86759724e+00]\n",
      " [ 2.36351966e+00  6.95246259e-01]\n",
      " [ 2.59634685e+00  1.26578420e+00]\n",
      " [ 9.54288026e-01 -3.84585845e-01]\n",
      " [ 9.40370837e-02  9.09942354e-01]\n",
      " [-5.89821092e-01 -1.18278178e+00]\n",
      " [-3.78862004e+00 -1.24851558e+00]\n",
      " [-1.45424148e+00 -1.68718385e+00]\n",
      " [ 3.52389055e-01  1.14188592e+00]\n",
      " [ 3.99720039e+00 -7.45321648e-01]\n",
      " [-2.44444626e+00 -1.91004969e+00]\n",
      " [ 3.61679102e+00 -1.10878403e-01]\n",
      " [ 1.15254935e+00  9.18731523e-01]\n",
      " [-5.21262016e-01  7.40893199e-01]\n",
      " [ 1.46423193e+00  3.88074535e+00]\n",
      " [ 8.03673346e-01  1.20960290e+00]\n",
      " [-2.24475482e+00 -2.32643854e+00]\n",
      " [ 1.53700572e+00  2.26790241e+00]\n",
      " [ 7.42129140e-01  1.44991591e+00]\n",
      " [-1.65766702e+00  7.56723497e-01]\n",
      " [-1.61054066e+00 -4.79827288e-01]\n",
      " [ 1.86584879e+00  2.79782527e+00]\n",
      " [-8.56685535e-01 -3.07062341e+00]\n",
      " [ 6.51679477e-01  1.17433053e+00]\n",
      " [ 1.39830273e+00  1.51927938e+00]\n",
      " [ 9.92482398e-01  4.48119897e-01]\n",
      " [-2.26991607e+00 -9.60750809e-01]\n",
      " [ 1.48885439e+00  1.51149890e+00]\n",
      " [ 1.04869696e+00  1.76568797e+00]\n",
      " [ 1.67788345e-01 -4.68624690e-01]\n",
      " [ 1.00389767e+00  1.42519502e+00]\n",
      " [ 1.23835455e+00  1.31775522e+00]\n",
      " [-2.77048500e+00 -5.30603292e-01]\n",
      " [ 1.00098336e+00  1.52135122e+00]\n",
      " [-1.12917500e+00 -1.35793819e+00]\n",
      " [ 2.82501405e+00  1.70533256e+00]\n",
      " [ 1.99869027e+00  2.54797216e+00]\n",
      " [ 1.13444891e+00  2.43809254e+00]\n",
      " [-2.67312341e+00  4.43621186e-01]\n",
      " [-2.13743703e+00 -1.89727181e+00]\n",
      " [ 3.27792144e-02 -3.06412301e-02]\n",
      " [-2.42356198e-01  1.96757246e-01]\n",
      " [ 6.43450692e-01 -4.15873997e-02]\n",
      " [-1.00625822e+00 -1.61610394e+00]\n",
      " [-1.56162640e+00 -1.60730528e+00]\n",
      " [ 1.29240017e-01  2.36565292e+00]\n",
      " [ 2.32032180e+00  2.85994854e+00]\n",
      " [-1.70690368e+00 -6.19821088e-01]\n",
      " [ 1.85281661e+00  1.34722558e+00]\n",
      " [ 1.72739278e+00  4.83261351e-01]\n",
      " [-2.17433266e+00 -1.46816944e+00]\n",
      " [-2.48551074e+00 -2.97183501e+00]\n",
      " [ 2.02894362e+00  1.74614779e+00]\n",
      " [-5.92092684e-03 -1.70515826e+00]\n",
      " [-1.37308791e+00 -1.09801064e+00]\n",
      " [ 1.25798017e+00  3.01826117e+00]\n",
      " [-9.21478502e-01 -1.15034554e+00]\n",
      " [-7.28594051e-01 -4.70561171e-01]\n",
      " [ 3.67558960e-01 -5.93955342e-01]\n",
      " [ 9.78420322e-01  3.15313410e-01]\n",
      " [ 8.42073907e-01  2.46888264e+00]\n",
      " [ 1.57458641e+00  4.22900931e-01]\n",
      " [ 1.12485288e+00  2.73803808e-01]\n",
      " [ 1.55157494e+00  2.36727663e+00]\n",
      " [ 2.82061488e-01  1.19503636e+00]\n",
      " [ 2.43674246e+00  2.91232771e+00]\n",
      " [ 2.04331189e+00  1.93904296e+00]\n",
      " [-2.65618243e+00 -7.18801898e-01]\n",
      " [-2.52993528e+00 -1.84994336e+00]\n",
      " [ 1.72558166e+00  2.88914532e+00]\n",
      " [-1.48949998e+00  2.85870494e-01]\n",
      " [ 1.77560067e+00  2.93504939e+00]\n",
      " [-1.89522898e+00 -2.65942052e+00]\n",
      " [ 3.34959125e+00  1.28583334e+00]\n",
      " [-7.70909438e-01 -1.37101709e+00]\n",
      " [ 7.00577600e-01  1.74078751e+00]\n",
      " [ 1.10761100e+00 -1.54614305e+00]\n",
      " [-3.34212844e-02 -6.47448061e-01]\n",
      " [ 7.07713338e-01  9.68394092e-01]\n",
      " [ 4.93168248e-01  3.18157672e+00]\n",
      " [-1.04258439e+00 -2.46461201e+00]\n",
      " [ 8.52818568e-01  1.97224715e+00]\n",
      " [-2.41282223e+00 -3.82983712e-01]\n",
      " [-2.01080514e+00 -2.68063218e+00]\n",
      " [ 3.60197545e-01  2.28495752e+00]\n",
      " [-1.22007540e+00 -1.59815039e+00]\n",
      " [-3.59460307e+00 -1.37627809e+00]\n",
      " [-1.96359597e+00 -1.01851853e+00]\n",
      " [ 1.55095428e+00 -2.94229271e-01]\n",
      " [-3.75556423e+00 -2.52250684e+00]\n",
      " [ 1.35642049e+00  1.11797455e+00]\n",
      " [-2.15229360e+00 -2.02118931e+00]\n",
      " [ 8.12700963e-01  1.38252545e+00]\n",
      " [ 1.05183464e+00  8.50662072e-01]\n",
      " [ 2.68137860e+00  8.68096242e-01]\n",
      " [-3.47668435e-01 -4.20381408e-01]\n",
      " [-2.80652685e+00  1.58130680e-01]\n",
      " [-6.42076076e-01 -3.58898133e-01]\n",
      " [-2.66514984e+00 -5.99173513e-01]\n",
      " [-3.34306955e+00 -1.97797400e+00]\n",
      " [ 1.50862790e+00  2.02700421e+00]\n",
      " [-3.99715662e-01 -2.01978028e-01]\n",
      " [ 5.81995230e-01  1.75249663e+00]\n",
      " [ 2.90134483e+00  1.08961821e+00]\n",
      " [-1.80911444e+00 -1.73346666e+00]\n",
      " [-9.76723339e-01 -1.67154633e+00]\n",
      " [-1.56824161e+00  2.13342722e-01]\n",
      " [ 8.83144775e-01 -5.55520513e-01]\n",
      " [-1.35804684e+00 -1.81932842e+00]\n",
      " [ 1.53060182e+00  1.43035842e+00]\n",
      " [-1.93918952e+00 -1.31866157e+00]\n",
      " [ 1.42533202e+00  1.75871644e+00]\n",
      " [ 1.53976673e+00 -6.69947109e-02]\n",
      " [-1.90317695e+00 -2.77554930e-01]\n",
      " [-9.78935124e-01 -2.07578797e+00]\n",
      " [-2.18783761e+00 -2.71407740e+00]\n",
      " [-1.32257386e+00 -1.90178094e+00]\n",
      " [ 2.65418403e+00  1.67250442e+00]\n",
      " [-6.58368736e-01 -1.74945858e+00]\n",
      " [-9.76108976e-01 -1.41157791e+00]\n",
      " [ 3.82673117e-02  8.16560233e-01]\n",
      " [ 1.90641549e+00  1.30682330e+00]\n",
      " [ 9.45690373e-01  1.02936234e+00]\n",
      " [-1.85399391e+00 -2.87495129e+00]\n",
      " [-2.64746865e+00 -1.93782004e+00]\n",
      " [-6.85480178e-01 -1.44107441e+00]\n",
      " [-2.36122569e+00  4.10064953e-01]\n",
      " [ 1.54513402e+00  3.83962481e+00]\n",
      " [ 1.61514787e+00  1.12085244e+00]\n",
      " [ 2.44091761e+00  1.90520408e+00]\n",
      " [ 1.81716063e+00  2.02004061e+00]\n",
      " [-6.35563801e-01 -2.24216502e+00]\n",
      " [-3.04079701e+00 -1.43673801e+00]\n",
      " [-5.49911582e-01 -1.65135721e+00]\n",
      " [ 1.12929600e+00  5.54384204e-01]\n",
      " [ 2.82646164e+00  5.35393576e-01]\n",
      " [-1.88487981e+00 -1.40564841e+00]\n",
      " [-1.86918184e+00 -1.73937918e+00]\n",
      " [ 6.48270803e-01  3.32272360e+00]\n",
      " [ 1.22356715e+00  1.24042302e+00]\n",
      " [-1.79183736e+00 -2.26149221e+00]\n",
      " [ 3.67557990e-01 -2.47727788e+00]\n",
      " [-2.69709319e-01 -2.97620151e-01]\n",
      " [-1.30069980e+00 -1.55060354e+00]\n",
      " [-2.09865394e+00 -2.61589699e+00]\n",
      " [-1.81088617e+00 -1.40259983e+00]\n",
      " [ 2.91117206e+00  2.28580383e+00]\n",
      " [ 1.27739432e+00  5.86920782e-01]\n",
      " [-1.14363360e+00 -7.93426832e-01]\n",
      " [ 1.28045897e+00  4.15963379e-01]\n",
      " [ 2.46069340e+00  2.82906285e+00]\n",
      " [ 1.48134932e-01 -1.33577224e+00]\n",
      " [-2.26414392e+00 -2.93779147e+00]\n",
      " [-2.09731607e+00 -1.73792173e+00]\n",
      " [ 2.25539570e+00  2.36740741e+00]\n",
      " [-1.84791215e+00 -1.34365103e+00]\n",
      " [ 2.00723895e+00  1.38377030e+00]\n",
      " [-2.06931205e+00 -1.23009565e+00]\n",
      " [ 1.98111513e+00  4.25935511e+00]\n",
      " [ 2.32721187e-01 -8.15498893e-01]\n",
      " [-2.37079715e+00 -2.07884966e+00]\n",
      " [-2.12808756e+00 -1.98102712e+00]\n",
      " [-4.00340404e-01 -8.44736269e-01]\n",
      " [-6.24167238e-01 -1.61510747e+00]\n",
      " [-1.93515355e+00  3.49263728e-01]\n",
      " [ 1.13840072e+00  2.56458514e+00]\n",
      " [ 2.43639854e+00  9.74359407e-01]\n",
      " [-1.96886419e+00 -3.70144129e+00]\n",
      " [-2.14361840e+00 -3.72340315e+00]\n",
      " [ 2.11192719e+00  1.58503274e-01]\n",
      " [ 3.09277075e+00  1.24142737e+00]\n",
      " [ 1.80833125e+00  1.21916533e-01]\n",
      " [-2.92406091e+00 -1.99331988e+00]\n",
      " [-1.77567053e+00 -2.20972797e+00]\n",
      " [-1.94092263e+00 -1.78035550e+00]\n",
      " [-5.04293451e-02  1.91731882e+00]\n",
      " [-2.22559738e+00 -2.88336396e+00]\n",
      " [ 1.78427967e+00  3.24266878e+00]\n",
      " [-2.17246045e+00 -1.85955316e+00]\n",
      " [-1.51702041e+00 -1.12084826e+00]\n",
      " [-2.45594500e+00 -1.84598178e+00]\n",
      " [ 6.82506902e-01  9.86527070e-02]\n",
      " [-5.50579193e-01 -1.41244876e+00]\n",
      " [-5.04215715e-01  1.87687652e+00]\n",
      " [-3.73364078e-01 -2.57993151e+00]\n",
      " [ 1.73958276e+00  1.13019883e+00]\n",
      " [-1.08279663e+00  3.46049636e-01]\n",
      " [-1.35595643e+00 -4.57264930e-02]\n",
      " [ 8.32287279e-01  3.18192174e+00]\n",
      " [ 1.82486962e+00  2.49711798e+00]\n",
      " [-4.45703083e-01  5.87216506e-01]\n",
      " [ 1.40219274e-01  1.45859919e+00]\n",
      " [ 1.28305043e+00  1.94539325e+00]\n",
      " [ 2.78598401e+00 -6.99839821e-03]\n",
      " [ 1.85475769e+00  2.11688655e+00]\n",
      " [ 7.80801284e-02  3.49795608e+00]\n",
      " [ 1.52106202e+00  1.59945446e+00]\n",
      " [ 1.97689837e+00  1.64844958e+00]\n",
      " [ 2.53043827e+00 -5.47323613e-01]\n",
      " [-1.89944903e+00 -1.12994411e+00]\n",
      " [-8.33616918e-01 -1.96071979e+00]\n",
      " [-1.43348278e+00 -1.19752810e+00]\n",
      " [-3.71405935e-01 -1.00399905e+00]\n",
      " [ 2.01313278e-01  2.77607535e+00]\n",
      " [-1.63288058e+00 -1.79779088e+00]\n",
      " [-1.45050502e+00 -1.00616322e+00]\n",
      " [-1.20176183e+00 -1.73614103e-01]\n",
      " [-6.31036513e-01 -1.22312809e+00]\n",
      " [-1.12357447e+00 -2.59940079e+00]\n",
      " [ 2.39526027e+00  2.87496407e+00]\n",
      " [ 3.22371038e-01  3.59803699e-01]\n",
      " [ 5.80886555e-01  1.69275385e+00]\n",
      " [-7.38962275e-01 -1.37832498e+00]\n",
      " [ 4.67356898e-01  1.06325166e+00]\n",
      " [ 8.99342442e-01  3.05224318e+00]\n",
      " [-2.53424284e+00 -8.18405482e-01]\n",
      " [-7.33336818e-01 -1.14370718e+00]\n",
      " [ 1.38522468e+00  1.80875124e+00]\n",
      " [ 2.43644573e+00  1.46490482e+00]\n",
      " [-3.13019835e+00 -1.03721774e+00]\n",
      " [-4.15917224e+00 -8.93680476e-01]\n",
      " [ 2.19938048e+00  4.38777713e-01]\n",
      " [ 1.11535458e+00  1.05616391e+00]\n",
      " [ 2.76507784e+00  1.71149701e+00]\n",
      " [-3.11970208e-01 -1.18305739e+00]\n",
      " [-7.52811666e-01 -2.68894496e+00]\n",
      " [-1.05613677e+00 -1.16632567e+00]\n",
      " [-2.47110457e+00 -1.18518280e+00]\n",
      " [ 2.31267404e+00  2.08725938e+00]\n",
      " [-1.22548364e+00 -2.39091508e+00]\n",
      " [-1.09765836e+00 -2.18481009e+00]\n",
      " [-2.51804188e+00 -1.57785476e+00]\n",
      " [ 1.94103291e+00  1.67879287e+00]\n",
      " [ 7.34297806e-01  2.05578696e+00]\n",
      " [-2.09631404e+00 -1.55256730e+00]\n",
      " [ 1.48514230e+00  2.32140594e+00]\n",
      " [-1.86469354e+00 -1.34329614e+00]\n",
      " [-2.39546656e+00 -1.11309750e+00]\n",
      " [ 2.92298350e+00  1.89608658e+00]\n",
      " [-5.51545551e-03 -3.56998503e+00]\n",
      " [ 2.17646073e+00  1.11799104e+00]\n",
      " [-2.83425847e+00 -2.84671751e+00]\n",
      " [ 1.83003511e+00  3.72594433e+00]\n",
      " [-1.17478062e-02  3.95889176e-01]\n",
      " [-5.52748032e-01 -1.65501009e+00]\n",
      " [ 1.72560865e+00  1.94971210e+00]\n",
      " [-1.54217145e+00 -1.78688719e+00]\n",
      " [-3.53068447e+00  5.64492861e-01]\n",
      " [-2.13432209e+00 -1.86274117e+00]\n",
      " [-2.19456786e+00 -1.64963454e+00]\n",
      " [ 2.72487056e+00  1.56485611e+00]\n",
      " [-2.72543552e+00 -6.55637024e-01]\n",
      " [ 1.51223198e+00  3.06925961e+00]\n",
      " [ 1.15203814e+00  1.46611142e-01]\n",
      " [ 1.85950440e+00  1.35543318e+00]\n",
      " [-1.81218215e-01  6.11028642e-01]\n",
      " [ 4.55912308e-01 -1.10990668e+00]\n",
      " [ 2.57819730e+00 -1.05918467e+00]\n",
      " [ 8.43536325e-01 -1.33455451e+00]\n",
      " [ 3.51125668e+00  1.45540457e+00]\n",
      " [ 2.25574029e+00  9.60867363e-01]\n",
      " [ 5.55631509e-01  1.73810315e+00]\n",
      " [-9.23409183e-01 -1.70829876e+00]\n",
      " [ 8.21974218e-01  2.79784579e+00]\n",
      " [-8.64173817e-01  1.52033418e+00]\n",
      " [ 2.53440989e+00  5.03787360e-01]\n",
      " [ 6.94373492e-01  3.81688076e-01]\n",
      " [-4.51804101e-01  8.40108270e-01]\n",
      " [-2.75279536e+00 -7.22509644e-01]\n",
      " [-1.88230028e-01  1.38753402e+00]\n",
      " [-1.96684555e+00 -2.91690611e+00]\n",
      " [ 6.96858613e-01  1.03566231e+00]\n",
      " [-1.63370156e+00 -4.22256194e-01]\n",
      " [-3.21220429e-01 -1.67992484e+00]\n",
      " [-2.01751904e+00 -2.47882986e+00]\n",
      " [ 1.51034931e+00  2.22003376e+00]\n",
      " [-1.99803245e+00  4.29532054e-01]\n",
      " [ 2.43040850e+00  1.32468360e+00]\n",
      " [ 1.71348005e+00  2.91426346e-01]\n",
      " [-1.07374127e+00 -8.23091965e-01]\n",
      " [-2.54855297e+00 -2.92001794e+00]\n",
      " [ 2.52893549e+00  1.42771299e+00]\n",
      " [ 5.69843497e-01  1.32141091e+00]\n",
      " [ 2.22310049e+00  1.52461213e+00]\n",
      " [ 1.27574107e+00  1.19775027e+00]\n",
      " [ 1.71950956e+00  1.89306293e+00]\n",
      " [ 2.20310827e-01  9.14568796e-01]\n",
      " [-2.46050438e+00 -2.29311736e+00]\n",
      " [ 1.74211796e+00  6.11279743e-01]\n",
      " [ 7.70955341e-01  1.69655740e+00]\n",
      " [ 1.86754490e+00  1.69031156e+00]\n",
      " [-2.38778575e+00 -3.48079647e+00]\n",
      " [ 1.95378191e+00 -3.29740411e-01]\n",
      " [ 2.08987982e+00  1.13614119e+00]\n",
      " [-2.13584608e+00 -8.23566705e-01]\n",
      " [-1.58593077e+00 -1.30570706e+00]\n",
      " [ 2.98935596e+00  2.02130375e+00]\n",
      " [ 2.64052346e-01 -1.09984279e+00]\n",
      " [ 3.20842069e-01  2.80142807e+00]\n",
      " [ 1.02996712e+00  1.28326853e+00]\n",
      " [-2.23956300e+00  4.30145954e-02]\n",
      " [ 4.09442459e+00  1.09596771e+00]\n",
      " [-3.60599315e-01 -2.73482582e+00]\n",
      " [-2.54525337e+00 -2.88854710e-01]\n",
      " [ 1.38951059e+00 -1.60699812e-01]\n",
      " [ 1.96616643e+00  1.12975756e+00]\n",
      " [ 2.38872677e-01 -5.05605609e-01]\n",
      " [-1.03433756e+00 -3.03624369e+00]\n",
      " [ 1.43272439e+00  1.81604130e-01]\n",
      " [-1.80901297e+00 -3.17600381e+00]\n",
      " [ 1.52074577e-01  7.38426612e-01]\n",
      " [ 1.72384356e+00  1.82962298e+00]\n",
      " [-2.00281670e+00  9.12453680e-01]\n",
      " [-1.32634526e-01 -6.77677243e-02]\n",
      " [-1.61816405e+00 -2.18017820e+00]\n",
      " [ 1.88273243e+00  1.46575772e+00]\n",
      " [-2.18401090e+00  1.59550796e-01]\n",
      " [ 7.95078647e-01  2.17997484e+00]\n",
      " [ 5.67210958e-01  2.74331938e+00]\n",
      " [ 3.25498615e+00  1.36701158e+00]\n",
      " [ 1.85178011e+00  1.87923553e+00]\n",
      " [ 1.04619596e+00  1.90326454e+00]\n",
      " [-2.55462846e+00 -6.79752163e-01]\n",
      " [-3.20627019e+00  4.50775395e-01]\n",
      " [ 1.68333920e+00  3.17094303e+00]\n",
      " [ 9.67297208e-01  2.59074973e+00]\n",
      " [ 2.21998373e+00  3.97093787e-01]\n",
      " [ 2.51184243e+00  8.42048955e-01]\n",
      " [ 1.33280826e-02 -9.46867936e-01]\n",
      " [-2.31314628e+00 -3.22628260e+00]\n",
      " [-7.26747023e-01 -2.68388064e+00]\n",
      " [ 1.73482153e+00  3.63215341e+00]]\n",
      "[1 0 0 0 0 0 1 1 1 1 1 0 0 1 0 0 0 1 1 0 0 0 1 1 0 1 0 1 0 1 0 0 0 1 0 0 0\n",
      " 0 1 1 0 1 1 0 1 1 0 0 0 1 1 0 0 0 0 1 0 0 0 1 1 0 0 0 1 0 1 1 1 1 1 0 1 0\n",
      " 0 0 1 1 0 0 0 0 0 1 0 1 1 0 0 1 1 0 0 1 0 0 0 1 0 1 1 1 0 1 0 0 1 1 0 1 1\n",
      " 1 0 1 0 1 1 0 0 0 0 0 1 0 0 1 1 1 1 0 0 0 0 1 1 0 1 0 1 1 1 0 0 0 0 0 1 0\n",
      " 0 1 1 1 1 0 0 0 1 0 1 1 0 0 0 0 1 1 0 1 1 1 1 1 1 0 0 0 1 1 0 1 1 0 1 1 0\n",
      " 1 1 0 0 1 0 1 1 1 0 1 1 1 1 1 0 1 0 1 1 1 0 0 0 1 1 0 0 1 1 0 1 1 0 0 1 0\n",
      " 0 1 0 0 0 1 1 1 1 1 1 1 1 0 0 1 0 1 0 1 0 1 1 0 1 1 0 1 0 0 1 0 0 0 1 0 1\n",
      " 0 1 1 1 0 0 0 0 0 1 0 1 1 0 0 0 0 0 1 0 1 1 0 0 0 0 1 0 0 1 1 1 0 0 0 0 1\n",
      " 1 1 1 0 0 0 1 1 0 0 1 1 0 0 0 0 0 0 1 1 0 1 1 0 0 0 1 0 1 0 1 0 0 0 0 0 0\n",
      " 1 1 0 0 1 1 1 0 0 0 1 0 1 0 0 0 1 0 1 0 1 1 0 1 1 1 1 1 1 1 1 1 1 1 0 0 0\n",
      " 0 1 0 0 0 0 0 1 1 1 0 1 1 0 0 1 1 0 0 1 1 1 0 0 0 0 1 0 0 0 1 1 0 1 0 0 1\n",
      " 0 1 0 1 0 0 1 0 0 0 0 1 0 1 1 1 1 0 1 1 1 1 1 0 1 1 1 1 1 0 1 0 1 0 0 0 1\n",
      " 0 1 1 0 0 1 1 1 1 1 1 0 1 1 1 0 1 1 0 0 1 0 1 1 0 1 0 0 1 1 0 0 1 0 1 1 0\n",
      " 1 0 1 0 1 1 1 1 1 0 0 1 1 1 1 0 0 0 1]\n"
     ]
    },
    {
     "data": {
      "image/png": "[encoded data removed]",
      "text/plain": [
       "<Figure size 640x480 with 1 Axes>"
      ]
     },
     "metadata": {},
     "output_type": "display_data"
    }
   ],
   "source": [
    "# Datensatz erstellen bestehend aus Datenpunkten X und Labels y\n",
    "X, y = make_blobs(n_samples=500, centers=np.array([[-1.5, -1.5], [1.5, 1.5]], ), n_features=2,\n",
    "                  random_state=0)\n",
    "print(X)\n",
    "print(y)\n",
    "\n",
    "plt.scatter(X[:, 0], X[:, 1], c=y)\n",
    "plt.show()\n"
   ]
  },
  {
   "cell_type": "markdown",
   "metadata": {
    "id": "bKPCQDDdo5qe"
   },
   "source": [
    "## b) Einfache Vorhersage\n",
    "\n",
    "Unser Ziel ist es zu bestimmen, ob ein Datenpunkt der Klasse A ($\\hat{y}=0$) oder B ($\\hat{y}=1$) angehört. Aus der Betrachtung der Daten könnten wir einige handgeschriebene Regeln ableiten.\n",
    "Weisen Sie einen Datenpunkt der Klasse A in der Funktion ```predict_1(x)``` zu, wenn er sich im dritten Quadranten (unter der x-Achse und links der y-Achse) befindet.\n",
    "Alle anderen Punkte werden der Klasse B zugewiesen."
   ]
  },
  {
   "cell_type": "code",
   "execution_count": 19,
   "metadata": {
    "id": "iLR4rVrwo5Tc"
   },
   "outputs": [],
   "source": [
    "# Prüfe ob der Datenpunkt x im dritten Quadranten liegt\n",
    "def predict_1(x: np.ndarray) -> int:\n",
    "    if (x[0] < 0) & (x[1] < 0):\n",
    "        return 1\n",
    "    else :\n",
    "        return 0"
   ]
  },
  {
   "cell_type": "markdown",
   "metadata": {
    "id": "JKKUY6DM3qLo"
   },
   "source": [
    "Wir verwenden nun die definierte Funktion ```predict_1(x)``` um eine Vorhersage für jeden Datenpunkt $x\\in X$ zu treffen. Dies geschieht in diesem Fall über eine for-Schleife. Vorhersagen werden in einer Liste gesammelt und anschließend in ein Numpy-Array konvertiert, welches sich zur Berechnung von Metriken besser eignet.\n",
    "\n",
    "Hinweis: Bei größeren Datenmengen werden in der Regel die Datenpunkte nicht einzeln über Schleifen verarbeitet, sondern in größeren Gruppen, sogenannten Batches. Dies erhöht die Verarbeitungsgeschwindigkeit und lastet vorhandene Hardware besser aus."
   ]
  },
  {
   "cell_type": "code",
   "execution_count": 30,
   "metadata": {
    "id": "5VPpHGlU3o-n"
   },
   "outputs": [],
   "source": [
    "# Berechne Vorhersagen für alle Datenpunkte\n",
    "nodeList = list()\n",
    "for node in X:\n",
    "    nodeList.append(predict_1(node))\n",
    "nodeArray = np.array(nodeList)"
   ]
  },
  {
   "cell_type": "markdown",
   "metadata": {
    "id": "f8aZipyz1Ex2"
   },
   "source": [
    "## c) Genauigkeit\n",
    "Implementieren Sie die Funktion ```accuracy(y_true, y_pred)```, um die Genauigkeit unserer Vorhersagefunktion zu bestimmen."
   ]
  },
  {
   "cell_type": "code",
   "execution_count": null,
   "metadata": {
    "id": "NUdxVAaH083h"
   },
   "outputs": [
    {
     "name": "stdout",
     "output_type": "stream",
     "text": [
      "37\n",
      "500\n",
      "7.3999999999999995\n"
     ]
    }
   ],
   "source": [
    "# Berechne die Genauigkeit (Accuracy) der Vorhersagen y_pred bzgl. den korrekten Labels y_true\n",
    "def accuracy(y_true: np.ndarray, y_pred: np.ndarray) -> float:\n",
    "    numberOfCorrectPredictions = 0\n",
    "    counter = 0\n",
    "    while counter < len(y_true):\n",
    "        if y_true[counter] == y_pred[counter]:\n",
    "                numberOfCorrectPredictions +=1\n",
    "        counter +=1\n",
    "    print(numberOfCorrectPredictions)\n",
    "    print(len(y_true))\n",
    "    return (numberOfCorrectPredictions/len(y_true)) * 100\n",
    "print(accuracy(y, nodeArray))\n"
   ]
  },
  {
   "cell_type": "markdown",
   "metadata": {
    "id": "3Ov1pc2OKoQz"
   },
   "source": [
    "## d) Verbesserte Vorhersage\n",
    "\n",
    "Wir können nun die Vorhersagefunktion verfeinern und z.B. sagen, dass alles unterhalb der Diagonalen ($-x_0 = x_1$) zur Klasse A gehört und sonst zur Klasse B. Implementieren Sie diese Regel in der Funktion ```predict_2(x)```.\n"
   ]
  },
  {
   "cell_type": "code",
   "execution_count": 39,
   "metadata": {
    "id": "26S9EnxjK2O-"
   },
   "outputs": [],
   "source": [
    "# Implementiere die verbesserte Vorhersagefunktion\n",
    "def predict_2(x: np.ndarray) -> float:\n",
    "    if x[1] < (x[0] * -1):\n",
    "        return 1\n",
    "    else:\n",
    "        return 0"
   ]
  },
  {
   "cell_type": "markdown",
   "metadata": {
    "id": "ifbeEwrbI03c"
   },
   "source": [
    "# Aufgabe 1.3 Regression\n",
    "\n",
    "Bei einer Regressionsaufgabe (mit einer Zielvariable) ist die Zielvariable kontinuierlich\n",
    "($y_i \\in \\mathbb{R}$).\n",
    "Dies unterscheidet sich sehr von der früheren Klassifizierungsstruktur, da wir jetzt nicht einfach unsere Daten in Klassen trennen und Entscheidungsgrenzen finden können, um die Klassen zu trennen. \n",
    "\n",
    "Ein einfaches Beispiel ist die lineare Regression, bei der wir annehmen, dass die Daten $\\mathbf{x_i}$\n",
    "linear mit der Zielvariablen\n",
    "$y_i$\n",
    "korreliert sind, wobei wir Koeffizienten $\\beta_0, \\dots, \\beta_{K} \\in \\mathbb{R}$ verwenden:\n",
    "\\begin{equation}\n",
    "     y_i = \\beta_0 + \\beta_1 x_i^1 + \\beta_2 x_i^2 + \\dots + \\beta_{K} x_i^{K}\n",
    "\\end{equation}\n",
    "\n",
    "und der Superskript den jeweiligen Eingangsvariablen-Index beschreibt.\n",
    "\n",
    "Für den zweidimensionalen Fall reduziert sich dies auf den klassischen Fall\n",
    "$ y_i = b + mx_i$\n",
    "(mit $b=c_0$ von oben)."
   ]
  },
  {
   "cell_type": "code",
   "execution_count": 3,
   "metadata": {
    "colab": {
     "base_uri": "https://localhost:8080/"
    },
    "executionInfo": {
     "elapsed": 855,
     "status": "ok",
     "timestamp": 1681309926346,
     "user": {
      "displayName": "Lukas Struppek",
      "userId": "14578470498754018169"
     },
     "user_tz": -120
    },
    "id": "gxP1SHb94SUe",
    "outputId": "59b3c707-fa6a-4e66-c2fc-a387e6a3a559"
   },
   "outputs": [
    {
     "name": "stderr",
     "output_type": "stream",
     "text": [
      "<ipython-input-3-64d081034048>:2: RuntimeWarning: covariance is not positive-semidefinite.\n",
      "  data = np.random.multivariate_normal(mean=[5, 5], cov=[[3, 8], [4, 8]], size=500)\n"
     ]
    }
   ],
   "source": [
    "np.random.seed(42) # Seed setzen, damit Datengenerierung deterministisch ist\n",
    "data = np.random.multivariate_normal(mean=[5, 5], cov=[[3, 8], [4, 8]], size=500)\n",
    "outlier = np.random.multivariate_normal(mean=[7, 17], cov=[[2, 1], [1, 2]], size=50)\n",
    "X = np.concatenate([data[:, 0], outlier[:, 0]]) # Interpretiere erste Dimension als unabhängige Variable (Daten)\n",
    "y = np.concatenate([data[:, 1], outlier[:, 1]]) # Interpretiere zweite Dimension als abhängige Variable (Vorhersagewert)"
   ]
  },
  {
   "cell_type": "markdown",
   "metadata": {
    "id": "sWfFq_D6I8RT"
   },
   "source": [
    "## a) Datensatzvisualisierung\n",
    "\n",
    "Schreiben Sie eine Methode ```visualize_data(X, y)```, um den generierten Datensatz als Scatter-Plot zu visualisieren.. Verwenden Sie dabei die [Matplotlib](https://matplotlib.org/stable/index.html) Bibliothek und beschriften Sie die x- und y-Achse."
   ]
  },
  {
   "cell_type": "code",
   "execution_count": 44,
   "metadata": {
    "id": "gzPYMh5iJIbc"
   },
   "outputs": [],
   "source": [
    "# Visualisieurng der Datenpunkte als Scatter-Plot\n",
    "def visualize_data(X: np.ndarray, y: np.ndarray) -> None:\n",
    "    plt.scatter(X[:, 0], X[:, 1], c=y)\n",
    "    plt.xlabel(\"X\")\n",
    "    plt.ylabel(\"Y\")\n",
    "    plt.show()"
   ]
  },
  {
   "cell_type": "markdown",
   "metadata": {
    "id": "p4brqUBxS2du"
   },
   "source": [
    "## b) Regressionsermittlung\n",
    "\n",
    "Die Regressionskoeffizienten können über folgende Formal bestimmt werden: $\\mathbf{\\hat{\\beta}} = \n",
    "( \\mathbf{X'}^T \\mathbf{X'})^{-1} \\mathbf{X'}^T\\mathbf{y} \\, ,\n",
    "$\n",
    "wobei $\\mathbf{X}$ um eine Spalte mit Einsen ergänzt wird ($\\mathbf{X'} = [\\mathbf{1}, \\mathbf{X}]$), um die Verschiebung an der y-Achse $\\beta_0$ zu berücksichtigen. \n",
    "\n",
    "\n",
    "Berechnen Sie in ```perform_linear_regression()``` die Regressionskoeffizienten\n",
    " $\\hat{\\beta}$ mithilfe der Methode der kleinsten Quadrate (KQ-Schätzer)."
   ]
  },
  {
   "cell_type": "code",
   "execution_count": 46,
   "metadata": {
    "id": "weKVlo8qS1Qd"
   },
   "outputs": [
    {
     "name": "stdout",
     "output_type": "stream",
     "text": [
      "[0.51270909 0.14282791 0.13412925]\n"
     ]
    }
   ],
   "source": [
    "# Schätzen der Regressionsgeraden beta_hat\n",
    "def estimate_beta(X: np.ndarray, y: np.ndarray) -> np.ndarray:\n",
    "    X_augmented = np.column_stack((np.ones(X.shape[0]), X))\n",
    "\n",
    "    beta_hat = np.linalg.inv(X_augmented.T @ X_augmented) @ X_augmented.T @ y\n",
    "    \n",
    "    return beta_hat\n",
    "print(estimate_beta(X, y))"
   ]
  },
  {
   "cell_type": "markdown",
   "metadata": {
    "id": "ACjc6FoDWbbZ"
   },
   "source": [
    "## c) Vorhersage\n",
    "Neue Vorhersagen können wir nun wie folgt erhalten: $\\mathbf{\\hat{y}} = \\mathbf{X'} \\mathbf{\\hat{\\beta}} \\, .$ \n",
    "\n",
    "Verwenden Sie das berechnete $\\hat{\\beta}$ und geben Sie in ```compute_predictions()``` für jeden Datenpunkt $\\mathbf{x_i}$ den zugehörigen Punkt auf der ermittelten Regressionsline $\\mathbf{\\hat{y_i}}$ an.\n"
   ]
  },
  {
   "cell_type": "code",
   "execution_count": null,
   "metadata": {
    "id": "ZJBo3-IFSqhj"
   },
   "outputs": [],
   "source": [
    "# Berechnung der Vorhersagen mithilfe des Linearen Regressionsmodells\n",
    "def compute_predictions(X: np.ndarray, beta_hat: np.ndarray) -> np.ndarray:\n",
    "    X_augmented = np.column_stack((np.ones(X.shape[0]), X))\n",
    "    return X_augmented @ beta_hat"
   ]
  },
  {
   "cell_type": "markdown",
   "metadata": {
    "id": "Rc4zWIXTX8Os"
   },
   "source": [
    "## d) Fehlerbewertung\n",
    "\n",
    "Berechnen Sie in der Funktion ```compute_mse()``` die mittlere quadratische Abweichung für die ermittelte Funktion zu den Datenpunkten."
   ]
  },
  {
   "cell_type": "code",
   "execution_count": null,
   "metadata": {
    "id": "jfMWMN6nXpXC"
   },
   "outputs": [],
   "source": [
    "# Berechne den Mean Squared Error (MSE)\n",
    "def compute_mse(y_true: np.ndarray, y_pred: np.ndarray) -> np.ndarray:\n"
   ]
  }
 ],
 "metadata": {
  "colab": {
   "authorship_tag": "ABX9TyNEd6YpOQ5bKkf2xpp2rpeX",
   "provenance": []
  },
  "kernelspec": {
   "display_name": "Python 3",
   "name": "python3"
  },
  "language_info": {
   "codemirror_mode": {
    "name": "ipython",
    "version": 3
   },
   "file_extension": ".py",
   "mimetype": "text/x-python",
   "name": "python",
   "nbconvert_exporter": "python",
   "pygments_lexer": "ipython3",
   "version": "3.11.9"
  }
 },
 "nbformat": 4,
 "nbformat_minor": 0
}
